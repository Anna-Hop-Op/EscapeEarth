{
  "nbformat": 4,
  "nbformat_minor": 0,
  "metadata": {
    "colab": {
      "name": "DownloadData.ipynb",
      "provenance": [],
      "authorship_tag": "ABX9TyPlEkD6+1i+qhaj+3SmF+jD",
      "include_colab_link": true
    },
    "kernelspec": {
      "name": "python3",
      "display_name": "Python 3"
    }
  },
  "cells": [
    {
      "cell_type": "markdown",
      "metadata": {
        "id": "view-in-github",
        "colab_type": "text"
      },
      "source": [
        "<a href=\"https://colab.research.google.com/github/Anna-Hop-Op/EscapeEarth/blob/main/Interns/Anna-Claire/DownloadData.ipynb\" target=\"_parent\"><img src=\"https://colab.research.google.com/assets/colab-badge.svg\" alt=\"Open In Colab\"/></a>"
      ]
    },
    {
      "cell_type": "code",
      "metadata": {
        "id": "g8kkb-t4J4qW"
      },
      "source": [
        "import pandas as pd\n",
        "from google.colab import drive\n",
        "drive.mount('/content/gdrive')"
      ],
      "execution_count": null,
      "outputs": []
    },
    {
      "cell_type": "code",
      "metadata": {
        "id": "PRoN9WRWKLvd"
      },
      "source": [
        "import pandas as pd\n",
        "!pip install lightkurve\n",
        "import lightkurve as lk"
      ],
      "execution_count": null,
      "outputs": []
    },
    {
      "cell_type": "code",
      "metadata": {
        "id": "o56Ugv-oLjzi"
      },
      "source": [
        "data_1 = pd.read_csv('/content/gdrive/My Drive/EscapeEarthData/all_targets_S014_v1.csv', skiprows = 5)"
      ],
      "execution_count": 8,
      "outputs": []
    },
    {
      "cell_type": "code",
      "metadata": {
        "id": "ok2TUS0cPh6m",
        "outputId": "59bb8ac5-067d-4850-e8e4-49b50d3b6576",
        "colab": {
          "base_uri": "https://localhost:8080/",
          "height": 204
        }
      },
      "source": [
        "data_1.head()"
      ],
      "execution_count": 9,
      "outputs": [
        {
          "output_type": "execute_result",
          "data": {
            "text/html": [
              "<div>\n",
              "<style scoped>\n",
              "    .dataframe tbody tr th:only-of-type {\n",
              "        vertical-align: middle;\n",
              "    }\n",
              "\n",
              "    .dataframe tbody tr th {\n",
              "        vertical-align: top;\n",
              "    }\n",
              "\n",
              "    .dataframe thead th {\n",
              "        text-align: right;\n",
              "    }\n",
              "</style>\n",
              "<table border=\"1\" class=\"dataframe\">\n",
              "  <thead>\n",
              "    <tr style=\"text-align: right;\">\n",
              "      <th></th>\n",
              "      <th>TICID</th>\n",
              "      <th>Camera</th>\n",
              "      <th>CCD</th>\n",
              "      <th>Tmag</th>\n",
              "      <th>RA</th>\n",
              "      <th>Dec</th>\n",
              "    </tr>\n",
              "  </thead>\n",
              "  <tbody>\n",
              "    <tr>\n",
              "      <th>0</th>\n",
              "      <td>7582594</td>\n",
              "      <td>2</td>\n",
              "      <td>3</td>\n",
              "      <td>8.57</td>\n",
              "      <td>272.3966</td>\n",
              "      <td>45.8308</td>\n",
              "    </tr>\n",
              "    <tr>\n",
              "      <th>1</th>\n",
              "      <td>7582633</td>\n",
              "      <td>2</td>\n",
              "      <td>3</td>\n",
              "      <td>9.92</td>\n",
              "      <td>272.3288</td>\n",
              "      <td>45.9244</td>\n",
              "    </tr>\n",
              "    <tr>\n",
              "      <th>2</th>\n",
              "      <td>7582634</td>\n",
              "      <td>2</td>\n",
              "      <td>3</td>\n",
              "      <td>10.48</td>\n",
              "      <td>272.3307</td>\n",
              "      <td>45.9255</td>\n",
              "    </tr>\n",
              "    <tr>\n",
              "      <th>3</th>\n",
              "      <td>7583285</td>\n",
              "      <td>2</td>\n",
              "      <td>2</td>\n",
              "      <td>11.30</td>\n",
              "      <td>272.3711</td>\n",
              "      <td>47.2259</td>\n",
              "    </tr>\n",
              "    <tr>\n",
              "      <th>4</th>\n",
              "      <td>7584049</td>\n",
              "      <td>2</td>\n",
              "      <td>2</td>\n",
              "      <td>8.50</td>\n",
              "      <td>272.5282</td>\n",
              "      <td>47.0887</td>\n",
              "    </tr>\n",
              "  </tbody>\n",
              "</table>\n",
              "</div>"
            ],
            "text/plain": [
              "     TICID   Camera   CCD   Tmag        RA      Dec\n",
              "0  7582594        2     3   8.57  272.3966  45.8308\n",
              "1  7582633        2     3   9.92  272.3288  45.9244\n",
              "2  7582634        2     3  10.48  272.3307  45.9255\n",
              "3  7583285        2     2  11.30  272.3711  47.2259\n",
              "4  7584049        2     2   8.50  272.5282  47.0887"
            ]
          },
          "metadata": {
            "tags": []
          },
          "execution_count": 9
        }
      ]
    },
    {
      "cell_type": "code",
      "metadata": {
        "id": "or-4HpLaQK1U"
      },
      "source": [
        "first = data_1[\"TICID\"].head()"
      ],
      "execution_count": 12,
      "outputs": []
    },
    {
      "cell_type": "code",
      "metadata": {
        "id": "FGm11KbLQRXN",
        "outputId": "6beba4f0-7fbb-4f99-ec6a-ca570789f2e6",
        "colab": {
          "base_uri": "https://localhost:8080/",
          "height": 102
        }
      },
      "source": [
        "for i in first:\n",
        "  print(i)"
      ],
      "execution_count": 13,
      "outputs": [
        {
          "output_type": "stream",
          "text": [
            "7582594\n",
            "7582633\n",
            "7582634\n",
            "7583285\n",
            "7584049\n"
          ],
          "name": "stdout"
        }
      ]
    },
    {
      "cell_type": "code",
      "metadata": {
        "id": "LDLdRtLHRAA2"
      },
      "source": [
        "lc = lk.search_lightcurvefile(\"TIC 7582594\", sector = 14)"
      ],
      "execution_count": 14,
      "outputs": []
    },
    {
      "cell_type": "code",
      "metadata": {
        "id": "8NcAV3i6Vgf3",
        "outputId": "ba8073b0-ee82-45fc-d222-fe119829f535",
        "colab": {
          "base_uri": "https://localhost:8080/",
          "height": 102
        }
      },
      "source": [
        "print(lc)"
      ],
      "execution_count": 15,
      "outputs": [
        {
          "output_type": "stream",
          "text": [
            "SearchResult containing 1 data products.\n",
            "\n",
            " #   observation   target_name                     productFilename                     distance\n",
            "--- -------------- ----------- ------------------------------------------------------- --------\n",
            "  0 TESS Sector 14     7582594 tess2019198215352-s0014-0000000007582594-0150-s_lc.fits      0.0\n"
          ],
          "name": "stdout"
        }
      ]
    },
    {
      "cell_type": "code",
      "metadata": {
        "id": "k9rBv2EjVmmm",
        "outputId": "8c09462f-b5b4-4474-9a8d-7f44e7e6610f",
        "colab": {
          "base_uri": "https://localhost:8080/",
          "height": 130
        }
      },
      "source": [
        "lc = lk.search_lightcurvefile(\"TIC\" + id , sector =).download()"
      ],
      "execution_count": 16,
      "outputs": [
        {
          "output_type": "error",
          "ename": "SyntaxError",
          "evalue": "ignored",
          "traceback": [
            "\u001b[0;36m  File \u001b[0;32m\"<ipython-input-16-fd4d60965981>\"\u001b[0;36m, line \u001b[0;32m1\u001b[0m\n\u001b[0;31m    lc = lk.search_lightcurvefile(\"TIC\" + id , sector =).download()\u001b[0m\n\u001b[0m                                                       ^\u001b[0m\n\u001b[0;31mSyntaxError\u001b[0m\u001b[0;31m:\u001b[0m invalid syntax\n"
          ]
        }
      ]
    },
    {
      "cell_type": "code",
      "metadata": {
        "id": "7PTUhdzHaYSe",
        "outputId": "7d8c06b3-0921-4f77-823f-b1a1bfb786f0",
        "colab": {
          "base_uri": "https://localhost:8080/",
          "height": 215
        }
      },
      "source": [
        "for i in first2:\n",
        "  lc2 = lk.search_lightcurvefile('TIC {}'.format(i), sector = 14).download()\n",
        "  lc3 = lc2.PDCSAP_FLUX\n",
        "  print(lc3)"
      ],
      "execution_count": 17,
      "outputs": [
        {
          "output_type": "error",
          "ename": "NameError",
          "evalue": "ignored",
          "traceback": [
            "\u001b[0;31m---------------------------------------------------------------------------\u001b[0m",
            "\u001b[0;31mNameError\u001b[0m                                 Traceback (most recent call last)",
            "\u001b[0;32m<ipython-input-17-5d42f5351d90>\u001b[0m in \u001b[0;36m<module>\u001b[0;34m()\u001b[0m\n\u001b[0;32m----> 1\u001b[0;31m \u001b[0;32mfor\u001b[0m \u001b[0mi\u001b[0m \u001b[0;32min\u001b[0m \u001b[0mfirst2\u001b[0m\u001b[0;34m:\u001b[0m\u001b[0;34m\u001b[0m\u001b[0;34m\u001b[0m\u001b[0m\n\u001b[0m\u001b[1;32m      2\u001b[0m   \u001b[0mlc2\u001b[0m \u001b[0;34m=\u001b[0m \u001b[0mlk\u001b[0m\u001b[0;34m.\u001b[0m\u001b[0msearch_lightcurvefile\u001b[0m\u001b[0;34m(\u001b[0m\u001b[0;34m'TIC {}'\u001b[0m\u001b[0;34m.\u001b[0m\u001b[0mformat\u001b[0m\u001b[0;34m(\u001b[0m\u001b[0mi\u001b[0m\u001b[0;34m)\u001b[0m\u001b[0;34m,\u001b[0m \u001b[0msector\u001b[0m \u001b[0;34m=\u001b[0m \u001b[0;36m14\u001b[0m\u001b[0;34m)\u001b[0m\u001b[0;34m.\u001b[0m\u001b[0mdownload\u001b[0m\u001b[0;34m(\u001b[0m\u001b[0;34m)\u001b[0m\u001b[0;34m\u001b[0m\u001b[0;34m\u001b[0m\u001b[0m\n\u001b[1;32m      3\u001b[0m   \u001b[0mlc3\u001b[0m \u001b[0;34m=\u001b[0m \u001b[0mlc2\u001b[0m\u001b[0;34m.\u001b[0m\u001b[0mPDCSAP_FLUX\u001b[0m\u001b[0;34m\u001b[0m\u001b[0;34m\u001b[0m\u001b[0m\n\u001b[1;32m      4\u001b[0m   \u001b[0mprint\u001b[0m\u001b[0;34m(\u001b[0m\u001b[0mlc3\u001b[0m\u001b[0;34m)\u001b[0m\u001b[0;34m\u001b[0m\u001b[0;34m\u001b[0m\u001b[0m\n",
            "\u001b[0;31mNameError\u001b[0m: name 'first2' is not defined"
          ]
        }
      ]
    },
    {
      "cell_type": "code",
      "metadata": {
        "id": "-ZRF2xFXacs_"
      },
      "source": [
        ""
      ],
      "execution_count": null,
      "outputs": []
    }
  ]
}